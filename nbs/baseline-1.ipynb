{
 "cells": [
  {
   "cell_type": "code",
   "execution_count": 1,
   "metadata": {},
   "outputs": [],
   "source": [
    "from sklearn.model_selection import train_test_split\n",
    "from sklearn.metrics import confusion_matrix\n",
    "from sklearn.metrics import accuracy_score, precision_score, recall_score, classification_report\n",
    "import pandas as pd\n",
    "import preprocessor as p"
   ]
  },
  {
   "cell_type": "code",
   "execution_count": 2,
   "metadata": {},
   "outputs": [],
   "source": [
    "fp = \"../data/REVISION DATASET_b.xlsx\"\n",
    "df = pd.read_excel(fp,sheet_name=\"data\")"
   ]
  },
  {
   "cell_type": "code",
   "execution_count": 3,
   "metadata": {},
   "outputs": [
    {
     "data": {
      "text/html": [
       "<div>\n",
       "<style scoped>\n",
       "    .dataframe tbody tr th:only-of-type {\n",
       "        vertical-align: middle;\n",
       "    }\n",
       "\n",
       "    .dataframe tbody tr th {\n",
       "        vertical-align: top;\n",
       "    }\n",
       "\n",
       "    .dataframe thead th {\n",
       "        text-align: right;\n",
       "    }\n",
       "</style>\n",
       "<table border=\"1\" class=\"dataframe\">\n",
       "  <thead>\n",
       "    <tr style=\"text-align: right;\">\n",
       "      <th></th>\n",
       "      <th>fullname</th>\n",
       "      <th>is_retweet</th>\n",
       "      <th>likes</th>\n",
       "      <th>replies</th>\n",
       "      <th>retweets</th>\n",
       "      <th>text</th>\n",
       "      <th>expresses a pain point</th>\n",
       "      <th>timestamp</th>\n",
       "      <th>timestamp_epochs</th>\n",
       "      <th>tweet_id</th>\n",
       "      <th>tweet_url</th>\n",
       "      <th>user_id</th>\n",
       "      <th>username</th>\n",
       "      <th>BRAND</th>\n",
       "      <th>Type of Pain</th>\n",
       "      <th>Subjectivity</th>\n",
       "      <th>Second category</th>\n",
       "      <th>Third category</th>\n",
       "      <th>Fourth category</th>\n",
       "      <th>Dataset</th>\n",
       "    </tr>\n",
       "  </thead>\n",
       "  <tbody>\n",
       "    <tr>\n",
       "      <th>0</th>\n",
       "      <td>Emmanuel Olabode</td>\n",
       "      <td>0</td>\n",
       "      <td>1</td>\n",
       "      <td>1</td>\n",
       "      <td>1</td>\n",
       "      <td>@ifemeetstech your pr team can help bridge the...</td>\n",
       "      <td>y</td>\n",
       "      <td>42176</td>\n",
       "      <td>1434841837</td>\n",
       "      <td>612397168788406016</td>\n",
       "      <td>/olabodeEO/status/612397168788406272</td>\n",
       "      <td>1955234486</td>\n",
       "      <td>olabodeEO</td>\n",
       "      <td>gap</td>\n",
       "      <td>Operational issues</td>\n",
       "      <td>NaN</td>\n",
       "      <td>NaN</td>\n",
       "      <td>NaN</td>\n",
       "      <td>NaN</td>\n",
       "      <td>Original</td>\n",
       "    </tr>\n",
       "    <tr>\n",
       "      <th>1</th>\n",
       "      <td>Alviniecððâ¨</td>\n",
       "      <td>0</td>\n",
       "      <td>0</td>\n",
       "      <td>0</td>\n",
       "      <td>0</td>\n",
       "      <td>mcdonalds really bein missing uhp people food ...</td>\n",
       "      <td>y</td>\n",
       "      <td>2014-09-01 23:25:17</td>\n",
       "      <td>1409613917</td>\n",
       "      <td>506583600599662592</td>\n",
       "      <td>/ohhamazing/status/506583600599662592</td>\n",
       "      <td>2723652417</td>\n",
       "      <td>ohhamazing</td>\n",
       "      <td>mcdonalds</td>\n",
       "      <td>Product feature or quality</td>\n",
       "      <td>NaN</td>\n",
       "      <td>NaN</td>\n",
       "      <td>NaN</td>\n",
       "      <td>NaN</td>\n",
       "      <td>Original</td>\n",
       "    </tr>\n",
       "    <tr>\n",
       "      <th>2</th>\n",
       "      <td>Bobby</td>\n",
       "      <td>0</td>\n",
       "      <td>0</td>\n",
       "      <td>0</td>\n",
       "      <td>0</td>\n",
       "      <td>if they thought that little of him, why was he...</td>\n",
       "      <td>y</td>\n",
       "      <td>43720</td>\n",
       "      <td>1568242832</td>\n",
       "      <td>1171921495309910016</td>\n",
       "      <td>/Bobbythegreat/status/1171921495309914112</td>\n",
       "      <td>33740752</td>\n",
       "      <td>Bobbythegreat</td>\n",
       "      <td>gap</td>\n",
       "      <td>Product feature or quality</td>\n",
       "      <td>NaN</td>\n",
       "      <td>NaN</td>\n",
       "      <td>NaN</td>\n",
       "      <td>NaN</td>\n",
       "      <td>Original</td>\n",
       "    </tr>\n",
       "    <tr>\n",
       "      <th>3</th>\n",
       "      <td>Elgen Bodenstien</td>\n",
       "      <td>0</td>\n",
       "      <td>0</td>\n",
       "      <td>0</td>\n",
       "      <td>0</td>\n",
       "      <td>when towns have locally owned  business capita...</td>\n",
       "      <td>y</td>\n",
       "      <td>2019-09-05 23:34:22</td>\n",
       "      <td>1567726462</td>\n",
       "      <td>1169755684122086912</td>\n",
       "      <td>/bodenstien/status/1169755684122087424</td>\n",
       "      <td>1167585352464424960</td>\n",
       "      <td>bodenstien</td>\n",
       "      <td>walmart</td>\n",
       "      <td>Company's image</td>\n",
       "      <td>NaN</td>\n",
       "      <td>NaN</td>\n",
       "      <td>NaN</td>\n",
       "      <td>NaN</td>\n",
       "      <td>Original</td>\n",
       "    </tr>\n",
       "    <tr>\n",
       "      <th>4</th>\n",
       "      <td>Robyn</td>\n",
       "      <td>0</td>\n",
       "      <td>3</td>\n",
       "      <td>1</td>\n",
       "      <td>1</td>\n",
       "      <td>@arma_vancouver health information in records ...</td>\n",
       "      <td>y</td>\n",
       "      <td>2019-01-23 22:43:08</td>\n",
       "      <td>1548283388</td>\n",
       "      <td>1088205518886190976</td>\n",
       "      <td>/RobynCBird/status/1088205518886191104</td>\n",
       "      <td>2206030555</td>\n",
       "      <td>RobynCBird</td>\n",
       "      <td>fitbit</td>\n",
       "      <td>Company's image</td>\n",
       "      <td>NaN</td>\n",
       "      <td>NaN</td>\n",
       "      <td>NaN</td>\n",
       "      <td>NaN</td>\n",
       "      <td>Original</td>\n",
       "    </tr>\n",
       "  </tbody>\n",
       "</table>\n",
       "</div>"
      ],
      "text/plain": [
       "              fullname  is_retweet  likes  replies  retweets  \\\n",
       "0     Emmanuel Olabode           0      1        1         1   \n",
       "1  Alviniecððâ¨           0      0        0         0   \n",
       "2                Bobby           0      0        0         0   \n",
       "3     Elgen Bodenstien           0      0        0         0   \n",
       "4                Robyn           0      3        1         1   \n",
       "\n",
       "                                                text expresses a pain point  \\\n",
       "0  @ifemeetstech your pr team can help bridge the...                      y   \n",
       "1  mcdonalds really bein missing uhp people food ...                      y   \n",
       "2  if they thought that little of him, why was he...                      y   \n",
       "3  when towns have locally owned  business capita...                      y   \n",
       "4  @arma_vancouver health information in records ...                      y   \n",
       "\n",
       "             timestamp  timestamp_epochs             tweet_id  \\\n",
       "0                42176        1434841837   612397168788406016   \n",
       "1  2014-09-01 23:25:17        1409613917   506583600599662592   \n",
       "2                43720        1568242832  1171921495309910016   \n",
       "3  2019-09-05 23:34:22        1567726462  1169755684122086912   \n",
       "4  2019-01-23 22:43:08        1548283388  1088205518886190976   \n",
       "\n",
       "                                   tweet_url              user_id  \\\n",
       "0       /olabodeEO/status/612397168788406272           1955234486   \n",
       "1      /ohhamazing/status/506583600599662592           2723652417   \n",
       "2  /Bobbythegreat/status/1171921495309914112             33740752   \n",
       "3     /bodenstien/status/1169755684122087424  1167585352464424960   \n",
       "4     /RobynCBird/status/1088205518886191104           2206030555   \n",
       "\n",
       "        username      BRAND                Type of Pain Subjectivity  \\\n",
       "0      olabodeEO        gap          Operational issues          NaN   \n",
       "1     ohhamazing  mcdonalds  Product feature or quality          NaN   \n",
       "2  Bobbythegreat        gap  Product feature or quality          NaN   \n",
       "3     bodenstien    walmart             Company's image          NaN   \n",
       "4     RobynCBird     fitbit             Company's image          NaN   \n",
       "\n",
       "  Second category Third category Fourth category   Dataset  \n",
       "0             NaN            NaN             NaN  Original  \n",
       "1             NaN            NaN             NaN  Original  \n",
       "2             NaN            NaN             NaN  Original  \n",
       "3             NaN            NaN             NaN  Original  \n",
       "4             NaN            NaN             NaN  Original  "
      ]
     },
     "execution_count": 3,
     "metadata": {},
     "output_type": "execute_result"
    }
   ],
   "source": [
    "df.head()"
   ]
  },
  {
   "cell_type": "code",
   "execution_count": 4,
   "metadata": {},
   "outputs": [],
   "source": [
    "df = df[[\"text\",\"expresses a pain point\"]]"
   ]
  },
  {
   "cell_type": "code",
   "execution_count": 5,
   "metadata": {},
   "outputs": [],
   "source": [
    "encoded_label_dict = {\"n\" : 0, \"y\" : 1}\n",
    "def encode_label(x):\n",
    "    return encoded_label_dict.get(x,-1)"
   ]
  },
  {
   "cell_type": "code",
   "execution_count": 6,
   "metadata": {},
   "outputs": [],
   "source": [
    "df[\"target\"] = df[\"expresses a pain point\"].apply(lambda x: encode_label(x))"
   ]
  },
  {
   "cell_type": "code",
   "execution_count": 7,
   "metadata": {},
   "outputs": [],
   "source": [
    "#p.clean('Preprocessor is #awesome 👍 https://github.com/s/preprocessor')"
   ]
  },
  {
   "cell_type": "code",
   "execution_count": 8,
   "metadata": {},
   "outputs": [],
   "source": [
    "def preprocess(txt):\n",
    "    return p.clean(txt)"
   ]
  },
  {
   "cell_type": "code",
   "execution_count": 9,
   "metadata": {},
   "outputs": [],
   "source": [
    "df[\"clean_text\"] = df[\"text\"].apply(lambda x: preprocess(x))"
   ]
  },
  {
   "cell_type": "code",
   "execution_count": 10,
   "metadata": {},
   "outputs": [
    {
     "data": {
      "text/html": [
       "<div>\n",
       "<style scoped>\n",
       "    .dataframe tbody tr th:only-of-type {\n",
       "        vertical-align: middle;\n",
       "    }\n",
       "\n",
       "    .dataframe tbody tr th {\n",
       "        vertical-align: top;\n",
       "    }\n",
       "\n",
       "    .dataframe thead th {\n",
       "        text-align: right;\n",
       "    }\n",
       "</style>\n",
       "<table border=\"1\" class=\"dataframe\">\n",
       "  <thead>\n",
       "    <tr style=\"text-align: right;\">\n",
       "      <th></th>\n",
       "      <th>text</th>\n",
       "      <th>expresses a pain point</th>\n",
       "      <th>target</th>\n",
       "      <th>clean_text</th>\n",
       "    </tr>\n",
       "  </thead>\n",
       "  <tbody>\n",
       "    <tr>\n",
       "      <th>0</th>\n",
       "      <td>@ifemeetstech your pr team can help bridge the...</td>\n",
       "      <td>y</td>\n",
       "      <td>1</td>\n",
       "      <td>your pr team can help bridge the communication...</td>\n",
       "    </tr>\n",
       "    <tr>\n",
       "      <th>1</th>\n",
       "      <td>mcdonalds really bein missing uhp people food ...</td>\n",
       "      <td>y</td>\n",
       "      <td>1</td>\n",
       "      <td>mcdonalds really bein missing uhp people food ...</td>\n",
       "    </tr>\n",
       "    <tr>\n",
       "      <th>2</th>\n",
       "      <td>if they thought that little of him, why was he...</td>\n",
       "      <td>y</td>\n",
       "      <td>1</td>\n",
       "      <td>if they thought that little of him, why was he...</td>\n",
       "    </tr>\n",
       "    <tr>\n",
       "      <th>3</th>\n",
       "      <td>when towns have locally owned  business capita...</td>\n",
       "      <td>y</td>\n",
       "      <td>1</td>\n",
       "      <td>when towns have locally owned business capital...</td>\n",
       "    </tr>\n",
       "    <tr>\n",
       "      <th>4</th>\n",
       "      <td>@arma_vancouver health information in records ...</td>\n",
       "      <td>y</td>\n",
       "      <td>1</td>\n",
       "      <td>health information in records means vulnerabil...</td>\n",
       "    </tr>\n",
       "  </tbody>\n",
       "</table>\n",
       "</div>"
      ],
      "text/plain": [
       "                                                text expresses a pain point  \\\n",
       "0  @ifemeetstech your pr team can help bridge the...                      y   \n",
       "1  mcdonalds really bein missing uhp people food ...                      y   \n",
       "2  if they thought that little of him, why was he...                      y   \n",
       "3  when towns have locally owned  business capita...                      y   \n",
       "4  @arma_vancouver health information in records ...                      y   \n",
       "\n",
       "   target                                         clean_text  \n",
       "0       1  your pr team can help bridge the communication...  \n",
       "1       1  mcdonalds really bein missing uhp people food ...  \n",
       "2       1  if they thought that little of him, why was he...  \n",
       "3       1  when towns have locally owned business capital...  \n",
       "4       1  health information in records means vulnerabil...  "
      ]
     },
     "execution_count": 10,
     "metadata": {},
     "output_type": "execute_result"
    }
   ],
   "source": [
    "df.head()"
   ]
  },
  {
   "cell_type": "code",
   "execution_count": 11,
   "metadata": {},
   "outputs": [
    {
     "data": {
      "text/plain": [
       "0    3348\n",
       "1    1252\n",
       "Name: target, dtype: int64"
      ]
     },
     "execution_count": 11,
     "metadata": {},
     "output_type": "execute_result"
    }
   ],
   "source": [
    "df.target.value_counts()"
   ]
  },
  {
   "cell_type": "code",
   "execution_count": 12,
   "metadata": {},
   "outputs": [
    {
     "data": {
      "text/plain": [
       "['need',\n",
       " 'want',\n",
       " 'wish',\n",
       " 'feature',\n",
       " 'ask',\n",
       " 'would like',\n",
       " 'improve',\n",
       " 'idea',\n",
       " 'upgrade',\n",
       " 'support',\n",
       " 'problem',\n",
       " 'issue',\n",
       " 'help',\n",
       " 'fix',\n",
       " 'complain',\n",
       " 'fail',\n",
       " 'sucks',\n",
       " 'hope',\n",
       " 'not good',\n",
       " 'did not',\n",
       " 'missing',\n",
       " 'should',\n",
       " 'i hate',\n",
       " 'bad',\n",
       " 'bothers',\n",
       " 'bothering',\n",
       " 'frustrates',\n",
       " 'frustrating',\n",
       " 'failure']"
      ]
     },
     "execution_count": 12,
     "metadata": {},
     "output_type": "execute_result"
    }
   ],
   "source": [
    "pain_keywords_fp = \"../data/pain point keywords.txt\"\n",
    "pain_keywords = open(pain_keywords_fp).read().strip().split(\"\\n\")\n",
    "pain_keywords"
   ]
  },
  {
   "cell_type": "code",
   "execution_count": 13,
   "metadata": {},
   "outputs": [],
   "source": [
    "def is_keyword_in_text(txt, pain_kwds):\n",
    "   return any([True if kw in txt else False for kw in pain_kwds])"
   ]
  },
  {
   "cell_type": "code",
   "execution_count": 14,
   "metadata": {},
   "outputs": [],
   "source": [
    "def is_spaced_keyword_in_text(txt, pain_kwds):\n",
    "   return any([True if f\" {kw} \" in f\" {txt} \" else False for kw in pain_kwds])"
   ]
  },
  {
   "cell_type": "code",
   "execution_count": 15,
   "metadata": {},
   "outputs": [],
   "source": [
    "#is_keyword_in_text(\"some water\",pain_keywords)\n",
    "#is_spaced_keyword_in_text(\"need some water\",pain_keywords)"
   ]
  },
  {
   "cell_type": "markdown",
   "metadata": {},
   "source": [
    "#### Train/Valid/Test Split"
   ]
  },
  {
   "cell_type": "code",
   "execution_count": 16,
   "metadata": {
    "_cell_guid": "a494f561-0c2f-4a38-8973-6b60c22da357",
    "_uuid": "f70ebe669fcf6b434c595cf6fb7a76120bf7809c"
   },
   "outputs": [],
   "source": [
    "train, valid_test = train_test_split(df, test_size=0.2, shuffle=True, stratify=None, random_state=2021)\n",
    "valid, test = train_test_split(valid_test, test_size=0.5, shuffle=True, stratify=None, random_state=2021)"
   ]
  },
  {
   "cell_type": "markdown",
   "metadata": {},
   "source": [
    "#### Adding Inferece functions"
   ]
  },
  {
   "cell_type": "code",
   "execution_count": 17,
   "metadata": {},
   "outputs": [],
   "source": [
    "def predict(data,text_col,pain_kwds):\n",
    "    preds = list(data[text_col].apply(lambda x: int(is_keyword_in_text(x,pain_kwds))).values)\n",
    "    return preds"
   ]
  },
  {
   "cell_type": "code",
   "execution_count": 18,
   "metadata": {},
   "outputs": [],
   "source": [
    "def predict_with_space(data,text_col,pain_kwds):\n",
    "    preds = list(data[text_col].apply(lambda x: int(is_spaced_keyword_in_text(x,pain_kwds))).values)\n",
    "    return preds"
   ]
  },
  {
   "cell_type": "markdown",
   "metadata": {},
   "source": [
    "#### Exact Match without preprocessing"
   ]
  },
  {
   "cell_type": "code",
   "execution_count": 19,
   "metadata": {},
   "outputs": [],
   "source": [
    "train_preds = predict(train,\"text\",pain_keywords)"
   ]
  },
  {
   "cell_type": "code",
   "execution_count": 20,
   "metadata": {},
   "outputs": [],
   "source": [
    "valid_preds = predict(valid,\"text\",pain_keywords)"
   ]
  },
  {
   "cell_type": "code",
   "execution_count": 21,
   "metadata": {},
   "outputs": [],
   "source": [
    "test_preds = predict(test,\"text\",pain_keywords)"
   ]
  },
  {
   "cell_type": "code",
   "execution_count": 22,
   "metadata": {},
   "outputs": [
    {
     "data": {
      "text/plain": [
       "array([[  0, 332],\n",
       "       [  0, 128]])"
      ]
     },
     "execution_count": 22,
     "metadata": {},
     "output_type": "execute_result"
    }
   ],
   "source": [
    "from sklearn.metrics import confusion_matrix\n",
    "y_true = test.target.values\n",
    "y_pred = test_preds\n",
    "confusion_matrix(y_true,y_pred)"
   ]
  },
  {
   "cell_type": "code",
   "execution_count": 23,
   "metadata": {},
   "outputs": [],
   "source": [
    "from sklearn.metrics import accuracy_score, precision_score, recall_score, classification_report\n",
    "acc = accuracy_score(y_true,y_pred)\n",
    "precision = precision_score(y_true,y_pred)\n",
    "recall = recall_score(y_true,y_pred)"
   ]
  },
  {
   "cell_type": "code",
   "execution_count": 24,
   "metadata": {},
   "outputs": [
    {
     "name": "stdout",
     "output_type": "stream",
     "text": [
      "Accuracy: 27.82608695652174; Precision:27.82608695652174; Recall:100.0\n"
     ]
    }
   ],
   "source": [
    "print(f\"Accuracy: {acc*100}; Precision:{precision*100}; Recall:{recall*100}\")"
   ]
  },
  {
   "cell_type": "code",
   "execution_count": 25,
   "metadata": {},
   "outputs": [
    {
     "name": "stdout",
     "output_type": "stream",
     "text": [
      "              precision    recall  f1-score   support\n",
      "\n",
      "           N       0.00      0.00      0.00       332\n",
      "           Y       0.28      1.00      0.44       128\n",
      "\n",
      "    accuracy                           0.28       460\n",
      "   macro avg       0.14      0.50      0.22       460\n",
      "weighted avg       0.08      0.28      0.12       460\n",
      "\n"
     ]
    },
    {
     "name": "stderr",
     "output_type": "stream",
     "text": [
      "/home/lazylearner/anaconda3/envs/amazonreviews/lib/python3.7/site-packages/sklearn/metrics/_classification.py:1221: UndefinedMetricWarning: Precision and F-score are ill-defined and being set to 0.0 in labels with no predicted samples. Use `zero_division` parameter to control this behavior.\n",
      "  _warn_prf(average, modifier, msg_start, len(result))\n"
     ]
    }
   ],
   "source": [
    "print(classification_report(y_true, y_pred, target_names=[\"N\",\"Y\"]))"
   ]
  },
  {
   "cell_type": "markdown",
   "metadata": {},
   "source": [
    "#### Exact Match after preprocessing"
   ]
  },
  {
   "cell_type": "code",
   "execution_count": 26,
   "metadata": {},
   "outputs": [],
   "source": [
    "train_preds = predict(train,\"clean_text\",pain_keywords)"
   ]
  },
  {
   "cell_type": "code",
   "execution_count": 27,
   "metadata": {},
   "outputs": [],
   "source": [
    "valid_preds = predict(valid,\"clean_text\",pain_keywords)"
   ]
  },
  {
   "cell_type": "code",
   "execution_count": 28,
   "metadata": {},
   "outputs": [],
   "source": [
    "test_preds = predict(test,\"clean_text\",pain_keywords)"
   ]
  },
  {
   "cell_type": "code",
   "execution_count": 29,
   "metadata": {},
   "outputs": [
    {
     "data": {
      "text/plain": [
       "array([[  4, 328],\n",
       "       [  1, 127]])"
      ]
     },
     "execution_count": 29,
     "metadata": {},
     "output_type": "execute_result"
    }
   ],
   "source": [
    "from sklearn.metrics import confusion_matrix\n",
    "y_true = test.target.values\n",
    "y_pred = test_preds\n",
    "confusion_matrix(y_true,y_pred)"
   ]
  },
  {
   "cell_type": "code",
   "execution_count": 30,
   "metadata": {},
   "outputs": [],
   "source": [
    "from sklearn.metrics import accuracy_score, precision_score, recall_score, classification_report\n",
    "acc = accuracy_score(y_true,y_pred)\n",
    "precision = precision_score(y_true,y_pred)\n",
    "recall = recall_score(y_true,y_pred)"
   ]
  },
  {
   "cell_type": "code",
   "execution_count": 31,
   "metadata": {},
   "outputs": [
    {
     "name": "stdout",
     "output_type": "stream",
     "text": [
      "Accuracy: 28.47826086956522; Precision:27.912087912087912; Recall:99.21875\n"
     ]
    }
   ],
   "source": [
    "print(f\"Accuracy: {acc*100}; Precision:{precision*100}; Recall:{recall*100}\")"
   ]
  },
  {
   "cell_type": "code",
   "execution_count": 32,
   "metadata": {},
   "outputs": [
    {
     "name": "stdout",
     "output_type": "stream",
     "text": [
      "              precision    recall  f1-score   support\n",
      "\n",
      "           N       0.80      0.01      0.02       332\n",
      "           Y       0.28      0.99      0.44       128\n",
      "\n",
      "    accuracy                           0.28       460\n",
      "   macro avg       0.54      0.50      0.23       460\n",
      "weighted avg       0.66      0.28      0.14       460\n",
      "\n"
     ]
    }
   ],
   "source": [
    "print(classification_report(y_true, y_pred, target_names=[\"N\",\"Y\"]))"
   ]
  },
  {
   "cell_type": "markdown",
   "metadata": {},
   "source": [
    "#### Spaced Match without preprocessing"
   ]
  },
  {
   "cell_type": "code",
   "execution_count": 33,
   "metadata": {},
   "outputs": [],
   "source": [
    "train_preds = predict_with_space(train,\"text\",pain_keywords)"
   ]
  },
  {
   "cell_type": "code",
   "execution_count": 34,
   "metadata": {},
   "outputs": [],
   "source": [
    "valid_preds = predict_with_space(valid,\"text\",pain_keywords)"
   ]
  },
  {
   "cell_type": "code",
   "execution_count": 35,
   "metadata": {},
   "outputs": [],
   "source": [
    "test_preds = predict_with_space(test,\"text\",pain_keywords)"
   ]
  },
  {
   "cell_type": "code",
   "execution_count": 36,
   "metadata": {},
   "outputs": [
    {
     "data": {
      "text/plain": [
       "array([[ 35, 297],\n",
       "       [ 16, 112]])"
      ]
     },
     "execution_count": 36,
     "metadata": {},
     "output_type": "execute_result"
    }
   ],
   "source": [
    "from sklearn.metrics import confusion_matrix\n",
    "y_true = test.target.values\n",
    "y_pred = test_preds\n",
    "confusion_matrix(y_true,y_pred)"
   ]
  },
  {
   "cell_type": "code",
   "execution_count": 37,
   "metadata": {},
   "outputs": [],
   "source": [
    "from sklearn.metrics import accuracy_score, precision_score, recall_score, classification_report\n",
    "acc = accuracy_score(y_true,y_pred)\n",
    "precision = precision_score(y_true,y_pred)\n",
    "recall = recall_score(y_true,y_pred)"
   ]
  },
  {
   "cell_type": "code",
   "execution_count": 38,
   "metadata": {},
   "outputs": [
    {
     "name": "stdout",
     "output_type": "stream",
     "text": [
      "Accuracy: 31.956521739130434; Precision:27.383863080684595; Recall:87.5\n"
     ]
    }
   ],
   "source": [
    "print(f\"Accuracy: {acc*100}; Precision:{precision*100}; Recall:{recall*100}\")"
   ]
  },
  {
   "cell_type": "code",
   "execution_count": 39,
   "metadata": {},
   "outputs": [
    {
     "name": "stdout",
     "output_type": "stream",
     "text": [
      "              precision    recall  f1-score   support\n",
      "\n",
      "           N       0.69      0.11      0.18       332\n",
      "           Y       0.27      0.88      0.42       128\n",
      "\n",
      "    accuracy                           0.32       460\n",
      "   macro avg       0.48      0.49      0.30       460\n",
      "weighted avg       0.57      0.32      0.25       460\n",
      "\n"
     ]
    }
   ],
   "source": [
    "print(classification_report(y_true, y_pred, target_names=[\"N\",\"Y\"]))"
   ]
  },
  {
   "cell_type": "markdown",
   "metadata": {},
   "source": [
    "#### Spaced Match after preprocessing"
   ]
  },
  {
   "cell_type": "code",
   "execution_count": 40,
   "metadata": {},
   "outputs": [],
   "source": [
    "train_preds = predict_with_space(train,\"clean_text\",pain_keywords)"
   ]
  },
  {
   "cell_type": "code",
   "execution_count": 41,
   "metadata": {},
   "outputs": [],
   "source": [
    "test_preds = predict_with_space(valid,\"clean_text\",pain_keywords)"
   ]
  },
  {
   "cell_type": "code",
   "execution_count": 42,
   "metadata": {},
   "outputs": [],
   "source": [
    "preds = predict_with_space(test,\"clean_text\",pain_keywords)"
   ]
  },
  {
   "cell_type": "code",
   "execution_count": 43,
   "metadata": {},
   "outputs": [
    {
     "data": {
      "text/plain": [
       "array([[ 38, 294],\n",
       "       [ 13, 115]])"
      ]
     },
     "execution_count": 43,
     "metadata": {},
     "output_type": "execute_result"
    }
   ],
   "source": [
    "from sklearn.metrics import confusion_matrix\n",
    "y_true = test.target.values\n",
    "y_pred = test_preds\n",
    "confusion_matrix(y_true,y_pred)"
   ]
  },
  {
   "cell_type": "code",
   "execution_count": 44,
   "metadata": {},
   "outputs": [],
   "source": [
    "from sklearn.metrics import accuracy_score, precision_score, recall_score, classification_report\n",
    "acc = accuracy_score(y_true,y_pred)\n",
    "precision = precision_score(y_true,y_pred)\n",
    "recall = recall_score(y_true,y_pred)"
   ]
  },
  {
   "cell_type": "code",
   "execution_count": 45,
   "metadata": {},
   "outputs": [
    {
     "name": "stdout",
     "output_type": "stream",
     "text": [
      "Accuracy: 33.26086956521739; Precision:28.117359413202937; Recall:89.84375\n"
     ]
    }
   ],
   "source": [
    "print(f\"Accuracy: {acc*100}; Precision:{precision*100}; Recall:{recall*100}\")"
   ]
  },
  {
   "cell_type": "code",
   "execution_count": 46,
   "metadata": {},
   "outputs": [
    {
     "name": "stdout",
     "output_type": "stream",
     "text": [
      "              precision    recall  f1-score   support\n",
      "\n",
      "           N       0.75      0.11      0.20       332\n",
      "           Y       0.28      0.90      0.43       128\n",
      "\n",
      "    accuracy                           0.33       460\n",
      "   macro avg       0.51      0.51      0.31       460\n",
      "weighted avg       0.62      0.33      0.26       460\n",
      "\n"
     ]
    }
   ],
   "source": [
    "print(classification_report(y_true, y_pred, target_names=[\"N\",\"Y\"]))"
   ]
  },
  {
   "cell_type": "code",
   "execution_count": null,
   "metadata": {},
   "outputs": [],
   "source": []
  }
 ],
 "metadata": {
  "kernelspec": {
   "display_name": "Python 3",
   "language": "python",
   "name": "python3"
  },
  "language_info": {
   "codemirror_mode": {
    "name": "ipython",
    "version": 3
   },
   "file_extension": ".py",
   "mimetype": "text/x-python",
   "name": "python",
   "nbconvert_exporter": "python",
   "pygments_lexer": "ipython3",
   "version": "3.7.9"
  }
 },
 "nbformat": 4,
 "nbformat_minor": 4
}
