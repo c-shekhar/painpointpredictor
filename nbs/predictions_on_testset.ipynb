{
 "cells": [
  {
   "cell_type": "code",
   "execution_count": 1,
   "metadata": {},
   "outputs": [],
   "source": [
    "import os\n",
    "import preprocessor as p\n",
    "import pandas as pd\n",
    "import torch\n",
    "from torch.utils.data import Dataset, DataLoader\n",
    "from torch import cuda\n",
    "from transformers import RobertaTokenizer"
   ]
  },
  {
   "cell_type": "code",
   "execution_count": 2,
   "metadata": {},
   "outputs": [],
   "source": [
    "device = 'cuda' if cuda.is_available() else 'cpu'"
   ]
  },
  {
   "cell_type": "code",
   "execution_count": 3,
   "metadata": {},
   "outputs": [],
   "source": [
    "test_data_folder = f\"../data/test/Data\"\n",
    "test_dataset_files = os.listdir(test_data_folder)"
   ]
  },
  {
   "cell_type": "code",
   "execution_count": 4,
   "metadata": {},
   "outputs": [],
   "source": [
    "fields = ['text','tweet_url','timestamp_epochs']\n",
    "test_dfs = [(pd.read_csv(f\"{test_data_folder}/{_}\",usecols=fields,engine='python'),_.replace('_clear.csv','')) for _ in test_dataset_files]"
   ]
  },
  {
   "cell_type": "code",
   "execution_count": 5,
   "metadata": {},
   "outputs": [
    {
     "data": {
      "text/plain": [
       "20"
      ]
     },
     "execution_count": 5,
     "metadata": {},
     "output_type": "execute_result"
    }
   ],
   "source": [
    "len(test_dfs)"
   ]
  },
  {
   "cell_type": "code",
   "execution_count": 6,
   "metadata": {},
   "outputs": [],
   "source": [
    "final_test_df = pd.DataFrame(columns=['text', 'timestamp_epochs', 'tweet_url', 'brand'])\n",
    "for df, brand in test_dfs:\n",
    "    n = len(df)\n",
    "    brand_values = [brand]*n\n",
    "    new_df = df.assign(brand=pd.Series(brand_values))\n",
    "    final_test_df = pd.concat([final_test_df, new_df])"
   ]
  },
  {
   "cell_type": "code",
   "execution_count": 7,
   "metadata": {},
   "outputs": [
    {
     "data": {
      "text/plain": [
       "(4209101, 4)"
      ]
     },
     "execution_count": 7,
     "metadata": {},
     "output_type": "execute_result"
    }
   ],
   "source": [
    "final_test_df.shape"
   ]
  },
  {
   "cell_type": "code",
   "execution_count": 8,
   "metadata": {},
   "outputs": [
    {
     "data": {
      "text/plain": [
       "Index(['text', 'timestamp_epochs', 'tweet_url', 'brand'], dtype='object')"
      ]
     },
     "execution_count": 8,
     "metadata": {},
     "output_type": "execute_result"
    }
   ],
   "source": [
    "final_test_df.columns"
   ]
  },
  {
   "cell_type": "code",
   "execution_count": 9,
   "metadata": {},
   "outputs": [
    {
     "data": {
      "text/plain": [
       "fedex        245953\n",
       "sony         223875\n",
       "macys        218491\n",
       "walmart      217028\n",
       "nintendo     214730\n",
       "mcdonalds    210882\n",
       "marriot      210367\n",
       "fitbit       210274\n",
       "nike         209919\n",
       "uber         209623\n",
       "gap          208712\n",
       "nestle       205200\n",
       "tesco        205027\n",
       "samsung      204861\n",
       "puma         204658\n",
       "adidas       204088\n",
       "cocacola     202349\n",
       "amazon       201660\n",
       "starbucks    200976\n",
       "netflix      200428\n",
       "Name: brand, dtype: int64"
      ]
     },
     "execution_count": 9,
     "metadata": {},
     "output_type": "execute_result"
    }
   ],
   "source": [
    "final_test_df.brand.value_counts()"
   ]
  },
  {
   "cell_type": "code",
   "execution_count": 10,
   "metadata": {},
   "outputs": [],
   "source": [
    "def preprocess(txt):\n",
    "    return p.clean(txt)"
   ]
  },
  {
   "cell_type": "code",
   "execution_count": 12,
   "metadata": {},
   "outputs": [],
   "source": [
    "final_test_df[\"text\"] = final_test_df[\"text\"].astype(str)"
   ]
  },
  {
   "cell_type": "code",
   "execution_count": 13,
   "metadata": {},
   "outputs": [
    {
     "data": {
      "text/html": [
       "<div>\n",
       "<style scoped>\n",
       "    .dataframe tbody tr th:only-of-type {\n",
       "        vertical-align: middle;\n",
       "    }\n",
       "\n",
       "    .dataframe tbody tr th {\n",
       "        vertical-align: top;\n",
       "    }\n",
       "\n",
       "    .dataframe thead th {\n",
       "        text-align: right;\n",
       "    }\n",
       "</style>\n",
       "<table border=\"1\" class=\"dataframe\">\n",
       "  <thead>\n",
       "    <tr style=\"text-align: right;\">\n",
       "      <th></th>\n",
       "      <th>text</th>\n",
       "      <th>timestamp_epochs</th>\n",
       "      <th>tweet_url</th>\n",
       "      <th>brand</th>\n",
       "    </tr>\n",
       "  </thead>\n",
       "  <tbody>\n",
       "    <tr>\n",
       "      <th>0</th>\n",
       "      <td>1.- Cruz Azul\\n2.- Monterrey\\n3.- AmÃÂ©rica\\n...</td>\n",
       "      <td>1546041592</td>\n",
       "      <td>/jesus_cassot/status/1078802745187074051</td>\n",
       "      <td>puma</td>\n",
       "    </tr>\n",
       "    <tr>\n",
       "      <th>1</th>\n",
       "      <td>I just discovered this on Poshmark: Kids Puma ...</td>\n",
       "      <td>1546041585</td>\n",
       "      <td>/sephotodesign/status/1078802716996980736</td>\n",
       "      <td>puma</td>\n",
       "    </tr>\n",
       "    <tr>\n",
       "      <th>2</th>\n",
       "      <td>Nike &gt; Puma &gt;&gt;&gt;&gt;&gt; Abismos &gt;&gt;&gt;&gt;&gt; Adidas https:/...</td>\n",
       "      <td>1546041584</td>\n",
       "      <td>/SaulitoATM2/status/1078802712756711425</td>\n",
       "      <td>puma</td>\n",
       "    </tr>\n",
       "    <tr>\n",
       "      <th>3</th>\n",
       "      <td>Bouta hop on this puma wave</td>\n",
       "      <td>1546041552</td>\n",
       "      <td>/luther_holley/status/1078802579239436289</td>\n",
       "      <td>puma</td>\n",
       "    </tr>\n",
       "    <tr>\n",
       "      <th>4</th>\n",
       "      <td>Don't mind it too much I have the body for it ...</td>\n",
       "      <td>1546041539</td>\n",
       "      <td>/ShanklyHero/status/1078802522674991104</td>\n",
       "      <td>puma</td>\n",
       "    </tr>\n",
       "  </tbody>\n",
       "</table>\n",
       "</div>"
      ],
      "text/plain": [
       "                                                text timestamp_epochs  \\\n",
       "0  1.- Cruz Azul\\n2.- Monterrey\\n3.- AmÃÂ©rica\\n...       1546041592   \n",
       "1  I just discovered this on Poshmark: Kids Puma ...       1546041585   \n",
       "2  Nike > Puma >>>>> Abismos >>>>> Adidas https:/...       1546041584   \n",
       "3                        Bouta hop on this puma wave       1546041552   \n",
       "4  Don't mind it too much I have the body for it ...       1546041539   \n",
       "\n",
       "                                   tweet_url brand  \n",
       "0   /jesus_cassot/status/1078802745187074051  puma  \n",
       "1  /sephotodesign/status/1078802716996980736  puma  \n",
       "2    /SaulitoATM2/status/1078802712756711425  puma  \n",
       "3  /luther_holley/status/1078802579239436289  puma  \n",
       "4    /ShanklyHero/status/1078802522674991104  puma  "
      ]
     },
     "execution_count": 13,
     "metadata": {},
     "output_type": "execute_result"
    }
   ],
   "source": [
    "final_test_df.head()"
   ]
  },
  {
   "cell_type": "code",
   "execution_count": 14,
   "metadata": {},
   "outputs": [],
   "source": [
    "model_name = \"roberta-base\"\n",
    "tokenizer = RobertaTokenizer.from_pretrained(model_name)"
   ]
  },
  {
   "cell_type": "code",
   "execution_count": 15,
   "metadata": {},
   "outputs": [],
   "source": [
    "model = torch.load('../models/best-ft-roberta-painpoint-maxlen35.pt')"
   ]
  },
  {
   "cell_type": "code",
   "execution_count": 16,
   "metadata": {},
   "outputs": [],
   "source": [
    "def predict(query, model, tokenizer, device=\"cuda\"):\n",
    "    tokens = tokenizer.encode(query)\n",
    "    all_tokens = len(tokens)\n",
    "    tokens = tokens[:tokenizer.model_max_length - 2]\n",
    "    used_tokens = len(tokens)\n",
    "    tokens = torch.tensor([tokenizer.bos_token_id] + tokens + [tokenizer.eos_token_id]).unsqueeze(0)\n",
    "    mask = torch.ones_like(tokens)\n",
    "\n",
    "    with torch.no_grad():\n",
    "        logits = model(tokens.to(device), attention_mask=mask.to(device))[0]\n",
    "        probs = logits.softmax(dim=-1)\n",
    "\n",
    "    fake, real = probs.detach().cpu().flatten().numpy().tolist()\n",
    "    return real"
   ]
  },
  {
   "cell_type": "code",
   "execution_count": 17,
   "metadata": {},
   "outputs": [
    {
     "data": {
      "text/plain": [
       "0.15501761436462402"
      ]
     },
     "execution_count": 17,
     "metadata": {},
     "output_type": "execute_result"
    }
   ],
   "source": [
    "query = \"\"\".- Cruz Azul2.- Monterrey3.- Amrica4.- Tigres5.- Pachuca6.- Chivas7.- Toluca8.- Pumas\n",
    "\"\"\"\n",
    "predict(query,model,tokenizer)"
   ]
  },
  {
   "cell_type": "code",
   "execution_count": null,
   "metadata": {},
   "outputs": [],
   "source": [
    "preds, preds_probas = [],[]\n",
    "for i, row in final_test_df.iterrows():\n",
    "    text = row[\"text\"]\n",
    "    clean_txt = preprocess(text)\n",
    "    pred = predict(clean_txt,model,tokenizer)\n",
    "    preds_probas.append(pred)\n",
    "    if pred >= 0.5:\n",
    "        preds.append(1)\n",
    "    else:\n",
    "        preds.append(0)"
   ]
  },
  {
   "cell_type": "code",
   "execution_count": 71,
   "metadata": {},
   "outputs": [
    {
     "data": {
      "text/plain": [
       "fedex        245953\n",
       "sony         223875\n",
       "macys        218491\n",
       "walmart      217028\n",
       "nintendo     214730\n",
       "mcdonalds    210882\n",
       "fitbit       210274\n",
       "nike         209919\n",
       "uber         209623\n",
       "nestle       205200\n",
       "tesco        205027\n",
       "samsung      204861\n",
       "puma         204658\n",
       "adidas       204088\n",
       "cocacola     202349\n",
       "amazon       201660\n",
       "starbucks    200976\n",
       "netflix      200428\n",
       "gap           84673\n",
       "Name: brand, dtype: int64"
      ]
     },
     "execution_count": 71,
     "metadata": {},
     "output_type": "execute_result"
    }
   ],
   "source": [
    "pd_df.brand.value_counts()"
   ]
  },
  {
   "cell_type": "code",
   "execution_count": 81,
   "metadata": {},
   "outputs": [
    {
     "data": {
      "text/plain": [
       "4209101"
      ]
     },
     "execution_count": 81,
     "metadata": {},
     "output_type": "execute_result"
    }
   ],
   "source": [
    "len(preds)"
   ]
  },
  {
   "cell_type": "code",
   "execution_count": 82,
   "metadata": {},
   "outputs": [],
   "source": [
    "final_df = final_test_df.assign(pain_point=pd.Series(preds))"
   ]
  },
  {
   "cell_type": "code",
   "execution_count": 83,
   "metadata": {},
   "outputs": [
    {
     "data": {
      "text/html": [
       "<div>\n",
       "<style scoped>\n",
       "    .dataframe tbody tr th:only-of-type {\n",
       "        vertical-align: middle;\n",
       "    }\n",
       "\n",
       "    .dataframe tbody tr th {\n",
       "        vertical-align: top;\n",
       "    }\n",
       "\n",
       "    .dataframe thead th {\n",
       "        text-align: right;\n",
       "    }\n",
       "</style>\n",
       "<table border=\"1\" class=\"dataframe\">\n",
       "  <thead>\n",
       "    <tr style=\"text-align: right;\">\n",
       "      <th></th>\n",
       "      <th>text</th>\n",
       "      <th>timestamp_epochs</th>\n",
       "      <th>tweet_url</th>\n",
       "      <th>brand</th>\n",
       "      <th>pain_point</th>\n",
       "    </tr>\n",
       "  </thead>\n",
       "  <tbody>\n",
       "    <tr>\n",
       "      <th>0</th>\n",
       "      <td>1.- Cruz Azul\\n2.- Monterrey\\n3.- AmÃÂ©rica\\n...</td>\n",
       "      <td>1546041592</td>\n",
       "      <td>/jesus_cassot/status/1078802745187074051</td>\n",
       "      <td>puma</td>\n",
       "      <td>0</td>\n",
       "    </tr>\n",
       "    <tr>\n",
       "      <th>1</th>\n",
       "      <td>I just discovered this on Poshmark: Kids Puma ...</td>\n",
       "      <td>1546041585</td>\n",
       "      <td>/sephotodesign/status/1078802716996980736</td>\n",
       "      <td>puma</td>\n",
       "      <td>0</td>\n",
       "    </tr>\n",
       "    <tr>\n",
       "      <th>2</th>\n",
       "      <td>Nike &gt; Puma &gt;&gt;&gt;&gt;&gt; Abismos &gt;&gt;&gt;&gt;&gt; Adidas https:/...</td>\n",
       "      <td>1546041584</td>\n",
       "      <td>/SaulitoATM2/status/1078802712756711425</td>\n",
       "      <td>puma</td>\n",
       "      <td>0</td>\n",
       "    </tr>\n",
       "    <tr>\n",
       "      <th>3</th>\n",
       "      <td>Bouta hop on this puma wave</td>\n",
       "      <td>1546041552</td>\n",
       "      <td>/luther_holley/status/1078802579239436289</td>\n",
       "      <td>puma</td>\n",
       "      <td>0</td>\n",
       "    </tr>\n",
       "    <tr>\n",
       "      <th>4</th>\n",
       "      <td>Don't mind it too much I have the body for it ...</td>\n",
       "      <td>1546041539</td>\n",
       "      <td>/ShanklyHero/status/1078802522674991104</td>\n",
       "      <td>puma</td>\n",
       "      <td>0</td>\n",
       "    </tr>\n",
       "  </tbody>\n",
       "</table>\n",
       "</div>"
      ],
      "text/plain": [
       "                                                text timestamp_epochs  \\\n",
       "0  1.- Cruz Azul\\n2.- Monterrey\\n3.- AmÃÂ©rica\\n...       1546041592   \n",
       "1  I just discovered this on Poshmark: Kids Puma ...       1546041585   \n",
       "2  Nike > Puma >>>>> Abismos >>>>> Adidas https:/...       1546041584   \n",
       "3                        Bouta hop on this puma wave       1546041552   \n",
       "4  Don't mind it too much I have the body for it ...       1546041539   \n",
       "\n",
       "                                   tweet_url brand  pain_point  \n",
       "0   /jesus_cassot/status/1078802745187074051  puma           0  \n",
       "1  /sephotodesign/status/1078802716996980736  puma           0  \n",
       "2    /SaulitoATM2/status/1078802712756711425  puma           0  \n",
       "3  /luther_holley/status/1078802579239436289  puma           0  \n",
       "4    /ShanklyHero/status/1078802522674991104  puma           0  "
      ]
     },
     "execution_count": 83,
     "metadata": {},
     "output_type": "execute_result"
    }
   ],
   "source": [
    "final_df.head()"
   ]
  },
  {
   "cell_type": "code",
   "execution_count": 84,
   "metadata": {},
   "outputs": [],
   "source": [
    "final_df.to_csv(\"../data/final_dataset_predictions.csv\", index=None)"
   ]
  }
 ],
 "metadata": {
  "kernelspec": {
   "display_name": "Python 3",
   "language": "python",
   "name": "python3"
  },
  "language_info": {
   "codemirror_mode": {
    "name": "ipython",
    "version": 3
   },
   "file_extension": ".py",
   "mimetype": "text/x-python",
   "name": "python",
   "nbconvert_exporter": "python",
   "pygments_lexer": "ipython3",
   "version": "3.7.9"
  }
 },
 "nbformat": 4,
 "nbformat_minor": 4
}
